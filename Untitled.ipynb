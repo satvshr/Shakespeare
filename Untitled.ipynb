{
 "cells": [
  {
   "cell_type": "code",
   "execution_count": 23,
   "id": "b7353273-1cbe-4c76-a45d-eef6fb25db53",
   "metadata": {},
   "outputs": [],
   "source": [
    "import numpy as np\n",
    "import pandas as pd\n",
    "import matplotlib.pyplot as plt"
   ]
  },
  {
   "cell_type": "code",
   "execution_count": 3,
   "id": "6ff9c9e3-2d42-4bfc-a55e-96068be08d34",
   "metadata": {},
   "outputs": [
    {
     "data": {
      "text/plain": [
       "2"
      ]
     },
     "execution_count": 3,
     "metadata": {},
     "output_type": "execute_result"
    }
   ],
   "source": [
    "V1 = np.array([1, 6, 7, 9])\n",
    "V2 = np.array([1 ,0 ,6 ,9])\n",
    "np.sum(V1==V2) "
   ]
  },
  {
   "cell_type": "code",
   "execution_count": 13,
   "id": "7d256ac5-ab5e-457b-bbc6-78d9f6dca0b3",
   "metadata": {},
   "outputs": [],
   "source": [
    "M = np.random.randint(1, 4, size=(10, 3))"
   ]
  },
  {
   "cell_type": "code",
   "execution_count": 14,
   "id": "c7e5fe74-bda9-4203-a546-05b341fcc0b9",
   "metadata": {},
   "outputs": [
    {
     "data": {
      "text/plain": [
       "(10, 3)"
      ]
     },
     "execution_count": 14,
     "metadata": {},
     "output_type": "execute_result"
    }
   ],
   "source": [
    "M.shape"
   ]
  },
  {
   "cell_type": "code",
   "execution_count": 15,
   "id": "0690461a-d6a8-4894-8fd3-105a01c5a260",
   "metadata": {},
   "outputs": [
    {
     "data": {
      "text/plain": [
       "10"
      ]
     },
     "execution_count": 15,
     "metadata": {},
     "output_type": "execute_result"
    }
   ],
   "source": [
    "M.shape[0]"
   ]
  },
  {
   "cell_type": "code",
   "execution_count": 16,
   "id": "8a92d0c8-5bb0-4bea-bb5d-99a8b9954c1b",
   "metadata": {},
   "outputs": [
    {
     "data": {
      "text/plain": [
       "3"
      ]
     },
     "execution_count": 16,
     "metadata": {},
     "output_type": "execute_result"
    }
   ],
   "source": [
    "M.shape[1]"
   ]
  },
  {
   "cell_type": "code",
   "execution_count": 17,
   "id": "5e98a135-0151-4c04-bc71-d6cf5bdc98a5",
   "metadata": {},
   "outputs": [],
   "source": [
    "for i in range(M.shape[0]):\n",
    "    if (M[i][0]+M[i][1])%4==0:\n",
    "        M[i][2] = 1\n",
    "    else:\n",
    "        M[i][2] = 0"
   ]
  },
  {
   "cell_type": "code",
   "execution_count": 18,
   "id": "7ef54a50-b38b-463b-8167-213afa3ac7c9",
   "metadata": {},
   "outputs": [
    {
     "data": {
      "text/plain": [
       "array([[1, 3, 1],\n",
       "       [1, 1, 0],\n",
       "       [3, 3, 0],\n",
       "       [3, 2, 0],\n",
       "       [1, 3, 1],\n",
       "       [1, 2, 0],\n",
       "       [2, 3, 0],\n",
       "       [3, 2, 0],\n",
       "       [3, 2, 0],\n",
       "       [1, 1, 0]])"
      ]
     },
     "execution_count": 18,
     "metadata": {},
     "output_type": "execute_result"
    }
   ],
   "source": [
    "M"
   ]
  },
  {
   "cell_type": "code",
   "execution_count": 21,
   "id": "108fcb9d-201d-4845-a541-8bb177d19ab0",
   "metadata": {},
   "outputs": [],
   "source": [
    "col_names = [\"X1\", \"X2\", \"Y\"]\n",
    "df = pd.DataFrame(M, columns=col_names)"
   ]
  },
  {
   "cell_type": "code",
   "execution_count": 24,
   "id": "48fc7c57-bf81-48f4-9c8f-f9cb9a65799e",
   "metadata": {},
   "outputs": [
    {
     "data": {
      "image/png": "[encoded data removed]",
      "text/plain": [
       "<Figure size 640x480 with 1 Axes>"
      ]
     },
     "metadata": {},
     "output_type": "display_data"
    }
   ],
   "source": [
    "col = df.Y.map({0:'b', 1:'r'}) #df is the dataframe you created for Q.3 \n",
    "df.plot.scatter(x='X1', y='X2', c=col) \n",
    "plt.show() "
   ]
  },
  {
   "cell_type": "code",
   "execution_count": 28,
   "id": "21a99f31-f713-4da0-b7ab-e988fdbbf82b",
   "metadata": {},
   "outputs": [
    {
     "data": {
      "text/plain": [
       "13"
      ]
     },
     "execution_count": 28,
     "metadata": {},
     "output_type": "execute_result"
    }
   ],
   "source": [
    "np.square(df[\"X1\"] - df[\"X2\"]).sum()"
   ]
  },
  {
   "cell_type": "code",
   "execution_count": 31,
   "id": "0e0a7b68-5a3e-4708-ac31-63554d18052c",
   "metadata": {},
   "outputs": [
    {
     "data": {
      "text/plain": [
       "True"
      ]
     },
     "execution_count": 31,
     "metadata": {},
     "output_type": "execute_result"
    }
   ],
   "source": [
    "row1 = df.iloc[0].to_numpy()\n",
    "row2 = df.iloc[1].to_numpy()\n",
    "\n",
    "euclidean_distance = np.sqrt(np.sum(np.square(row1 - row2)))\n",
    "linalg_distance = np.linalg.norm(row1 - row2)\n",
    "\n",
    "euclidean_distance == linalg_distance"
   ]
  },
  {
   "cell_type": "code",
   "execution_count": 33,
   "id": "898ea9d8-0051-47bd-ac6b-f01e1e5268c8",
   "metadata": {},
   "outputs": [
    {
     "name": "stdout",
     "output_type": "stream",
     "text": [
      "Euclidean Distances between Each Row and V:\n",
      "[2.53967025 1.35536134 3.86988244 3.35293894 2.53967025 1.88965472\n",
      " 3.18438186 3.35293894 3.35293894 1.35536134]\n"
     ]
    }
   ],
   "source": [
    "V = np.random.rand(3)  # Generate random 2D vector\n",
    "distances = np.linalg.norm(df - V, axis=1)  # Efficient vectorized calculation\n",
    "\n",
    "print(\"Euclidean Distances between Each Row and V:\")\n",
    "print(distances)"
   ]
  },
  {
   "cell_type": "code",
   "execution_count": 35,
   "id": "43311159-d60b-431f-af26-9e113459473f",
   "metadata": {},
   "outputs": [
    {
     "name": "stdout",
     "output_type": "stream",
     "text": [
      "[[1 2 3]\n",
      " [2 3 4]]\n",
      "[[1 2 3 6]\n",
      " [2 3 4 7]]\n",
      "[[1 2 3 6]\n",
      " [2 3 4 7]\n",
      " [1 1 1 1]]\n"
     ]
    }
   ],
   "source": [
    "A=np.array([[1,2,3],[2,3,4]]) \n",
    "print(A) \n",
    "C=np.array([6,7]) \n",
    "A=np.column_stack((A,C)) \n",
    "print(A) \n",
    "R=np.array([1,1,1,1]) \n",
    "A=np.vstack((A,R)) \n",
    "print(A) "
   ]
  },
  {
   "cell_type": "code",
   "execution_count": 38,
   "id": "2860a88c-8871-4c9e-9652-cf562e224f04",
   "metadata": {},
   "outputs": [
    {
     "name": "stdout",
     "output_type": "stream",
     "text": [
      "First few rows:\n",
      "   Pregnancies  Glucose  BloodPressure  SkinThickness  Insulin   BMI  \\\n",
      "0            6      148             72             35        0  33.6   \n",
      "1            1       85             66             29        0  26.6   \n",
      "2            8      183             64              0        0  23.3   \n",
      "3            1       89             66             23       94  28.1   \n",
      "4            0      137             40             35      168  43.1   \n",
      "\n",
      "   DiabetesPedigreeFunction  Age  Outcome  \n",
      "0                     0.627   50        1  \n",
      "1                     0.351   31        0  \n",
      "2                     0.672   32        1  \n",
      "3                     0.167   21        0  \n",
      "4                     2.288   33        1  \n",
      "\n",
      "X_test using numpy slicing:\n",
      "[[ 11.    138.     74.     26.    144.     36.1     0.557  50.   ]\n",
      " [  3.    106.     72.      0.      0.     25.8     0.207  27.   ]\n",
      " [  6.    117.     96.      0.      0.     28.7     0.157  30.   ]\n",
      " [  2.     68.     62.     13.     15.     20.1     0.257  23.   ]\n",
      " [  9.    112.     82.     24.      0.     28.2     1.282  50.   ]]\n",
      "\n",
      "X_test using train_test_split:\n",
      "[[7.00e+00 1.00e+02 0.00e+00 0.00e+00 0.00e+00 3.00e+01 4.84e-01 3.20e+01]\n",
      " [7.00e+00 1.47e+02 7.60e+01 0.00e+00 0.00e+00 3.94e+01 2.57e-01 4.30e+01]\n",
      " [1.00e+00 1.72e+02 6.80e+01 4.90e+01 5.79e+02 4.24e+01 7.02e-01 2.80e+01]\n",
      " [4.00e+00 1.45e+02 8.20e+01 1.80e+01 0.00e+00 3.25e+01 2.35e-01 7.00e+01]\n",
      " [1.00e+01 1.25e+02 7.00e+01 2.60e+01 1.15e+02 3.11e+01 2.05e-01 4.10e+01]]\n",
      "\n",
      "Confusion Matrix:\n",
      "[[81 18]\n",
      " [26 29]]\n",
      "\n",
      "Classification Report:\n",
      "              precision    recall  f1-score   support\n",
      "\n",
      "         0.0       0.76      0.82      0.79        99\n",
      "         1.0       0.62      0.53      0.57        55\n",
      "\n",
      "    accuracy                           0.71       154\n",
      "   macro avg       0.69      0.67      0.68       154\n",
      "weighted avg       0.71      0.71      0.71       154\n",
      "\n",
      "\n",
      "Total Correct Predictions: 110\n",
      "Accuracy: 0.7142857142857143\n"
     ]
    },
    {
     "data": {
      "image/png": "[encoded data removed]",
      "text/plain": [
       "<Figure size 640x480 with 1 Axes>"
      ]
     },
     "metadata": {},
     "output_type": "display_data"
    }
   ],
   "source": [
    "import pandas as pd\n",
    "from sklearn.model_selection import train_test_split\n",
    "from sklearn.preprocessing import StandardScaler\n",
    "from sklearn.neighbors import KNeighborsClassifier\n",
    "from sklearn.metrics import classification_report, confusion_matrix\n",
    "import matplotlib.pyplot as plt\n",
    "\n",
    "data = pd.read_csv(\"diabetes_dataset.csv\")\n",
    "print(\"First few rows:\")\n",
    "print(data.head())\n",
    "\n",
    "data_values = data.values\n",
    "X = data_values[:, :-1]  \n",
    "y = data_values[:, -1]  \n",
    "X_train, X_test, y_train, y_test = X[:int(0.8 * len(X))], X[int(0.8 * len(X)):], y[:int(0.8 * len(y))], y[int(0.8 * len(y)):]\n",
    "\n",
    "X_train_sklearn, X_test_sklearn, y_train_sklearn, y_test_sklearn = train_test_split(X, y, test_size=0.20)\n",
    "\n",
    "print(\"\\nX_test using numpy slicing:\")\n",
    "print(X_test[:5])  \n",
    "print(\"\\nX_test using train_test_split:\")\n",
    "print(X_test_sklearn[:5])  \n",
    "\n",
    "scaler = StandardScaler().fit(X_train)\n",
    "X_train_scaled = scaler.transform(X_train)\n",
    "X_test_scaled = scaler.transform(X_test)  # Normalize X_test using the same scaler\n",
    "\n",
    "k = 5  # Number of neighbors (adjustable for part i)\n",
    "classifier = KNeighborsClassifier(n_neighbors=k)\n",
    "classifier.fit(X_train_scaled, y_train)\n",
    "y_pred = classifier.predict(X_test_scaled)\n",
    "\n",
    "print(\"\\nConfusion Matrix:\")\n",
    "print(confusion_matrix(y_test, y_pred))\n",
    "\n",
    "print(\"\\nClassification Report:\")\n",
    "print(classification_report(y_test, y_pred))\n",
    "correct_predictions = (y_pred == y_test).sum()\n",
    "accuracy = correct_predictions / len(y_test)\n",
    "print(\"\\nTotal Correct Predictions:\", correct_predictions)\n",
    "print(\"Accuracy:\", accuracy)\n",
    "\n",
    "k_values = range(1, 10)  \n",
    "accuracies = []\n",
    "for k in k_values:\n",
    "  classifier = KNeighborsClassifier(n_neighbors=k)\n",
    "  classifier.fit(X_train_scaled, y_train)\n",
    "  y_pred = classifier.predict(X_test_scaled)\n",
    "  accuracy = (y_pred == y_test).sum() / len(y_test)\n",
    "  accuracies.append(accuracy)\n",
    "\n",
    "plt.plot(k_values, accuracies)\n",
    "plt.xlabel(\"Number of Neighbors (k)\")\n",
    "plt.ylabel(\"Accuracy\")\n",
    "plt.title(\"kNN Accuracy vs. Number of Neighbors\")\n",
    "plt.show()"
   ]
  },
  {
   "cell_type": "code",
   "execution_count": null,
   "id": "0dd96675-d5f5-4990-a68e-b200ebad274f",
   "metadata": {},
   "outputs": [],
   "source": []
  }
 ],
 "metadata": {
  "kernelspec": {
   "display_name": "Python 3 (ipykernel)",
   "language": "python",
   "name": "python3"
  },
  "language_info": {
   "codemirror_mode": {
    "name": "ipython",
    "version": 3
   },
   "file_extension": ".py",
   "mimetype": "text/x-python",
   "name": "python",
   "nbconvert_exporter": "python",
   "pygments_lexer": "ipython3",
   "version": "3.12.2"
  }
 },
 "nbformat": 4,
 "nbformat_minor": 5
}
